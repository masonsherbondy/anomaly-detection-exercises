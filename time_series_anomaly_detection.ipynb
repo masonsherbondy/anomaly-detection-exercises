{
 "cells": [
  {
   "cell_type": "markdown",
   "id": "4c034155",
   "metadata": {},
   "source": [
    "# Time Series Anomaly Detection Exercises"
   ]
  },
  {
   "cell_type": "code",
   "execution_count": 1,
   "id": "31791a0f",
   "metadata": {},
   "outputs": [],
   "source": [
    "import numpy as np\n",
    "import pandas as pd\n",
    "import matplotlib.pyplot as plt\n",
    "import seaborn as sns\n",
    "import mason_functions as mf\n",
    "import warnings\n",
    "warnings.filterwarnings('ignore')\n",
    "\n",
    "import env\n",
    "import os"
   ]
  },
  {
   "cell_type": "markdown",
   "id": "90566b83",
   "metadata": {},
   "source": [
    "Exercises\n",
    "file name: time_series_anomaly_detection.py or time_series_anomaly_detection.ipynb\n",
    "The dataset for these exercises lives in the Codeup Data Science MySQL Server. The database name is curriculum_logs.\n",
    "Hint: You will need to explore the database and significantly adjust your acquisition step (yay SQL!)"
   ]
  },
  {
   "cell_type": "code",
   "execution_count": 2,
   "id": "7e6750f4",
   "metadata": {},
   "outputs": [
    {
     "data": {
      "text/html": [
       "<div>\n",
       "<style scoped>\n",
       "    .dataframe tbody tr th:only-of-type {\n",
       "        vertical-align: middle;\n",
       "    }\n",
       "\n",
       "    .dataframe tbody tr th {\n",
       "        vertical-align: top;\n",
       "    }\n",
       "\n",
       "    .dataframe thead th {\n",
       "        text-align: right;\n",
       "    }\n",
       "</style>\n",
       "<table border=\"1\" class=\"dataframe\">\n",
       "  <thead>\n",
       "    <tr style=\"text-align: right;\">\n",
       "      <th></th>\n",
       "      <th>date</th>\n",
       "      <th>time</th>\n",
       "      <th>path</th>\n",
       "      <th>user_id</th>\n",
       "      <th>cohort_id</th>\n",
       "      <th>ip</th>\n",
       "      <th>id</th>\n",
       "      <th>name</th>\n",
       "      <th>slack</th>\n",
       "      <th>start_date</th>\n",
       "      <th>end_date</th>\n",
       "      <th>created_at</th>\n",
       "      <th>updated_at</th>\n",
       "      <th>deleted_at</th>\n",
       "      <th>program_id</th>\n",
       "    </tr>\n",
       "  </thead>\n",
       "  <tbody>\n",
       "    <tr>\n",
       "      <th>0</th>\n",
       "      <td>2018-01-26</td>\n",
       "      <td>09:55:03</td>\n",
       "      <td>/</td>\n",
       "      <td>1</td>\n",
       "      <td>8.0</td>\n",
       "      <td>97.105.19.61</td>\n",
       "      <td>8.0</td>\n",
       "      <td>Hampton</td>\n",
       "      <td>#hampton</td>\n",
       "      <td>2015-09-22</td>\n",
       "      <td>2016-02-06</td>\n",
       "      <td>2016-06-14 19:52:26</td>\n",
       "      <td>2016-06-14 19:52:26</td>\n",
       "      <td>NaN</td>\n",
       "      <td>1.0</td>\n",
       "    </tr>\n",
       "    <tr>\n",
       "      <th>1</th>\n",
       "      <td>2018-01-26</td>\n",
       "      <td>09:56:02</td>\n",
       "      <td>java-ii</td>\n",
       "      <td>1</td>\n",
       "      <td>8.0</td>\n",
       "      <td>97.105.19.61</td>\n",
       "      <td>8.0</td>\n",
       "      <td>Hampton</td>\n",
       "      <td>#hampton</td>\n",
       "      <td>2015-09-22</td>\n",
       "      <td>2016-02-06</td>\n",
       "      <td>2016-06-14 19:52:26</td>\n",
       "      <td>2016-06-14 19:52:26</td>\n",
       "      <td>NaN</td>\n",
       "      <td>1.0</td>\n",
       "    </tr>\n",
       "    <tr>\n",
       "      <th>2</th>\n",
       "      <td>2018-01-26</td>\n",
       "      <td>09:56:05</td>\n",
       "      <td>java-ii/object-oriented-programming</td>\n",
       "      <td>1</td>\n",
       "      <td>8.0</td>\n",
       "      <td>97.105.19.61</td>\n",
       "      <td>8.0</td>\n",
       "      <td>Hampton</td>\n",
       "      <td>#hampton</td>\n",
       "      <td>2015-09-22</td>\n",
       "      <td>2016-02-06</td>\n",
       "      <td>2016-06-14 19:52:26</td>\n",
       "      <td>2016-06-14 19:52:26</td>\n",
       "      <td>NaN</td>\n",
       "      <td>1.0</td>\n",
       "    </tr>\n",
       "    <tr>\n",
       "      <th>3</th>\n",
       "      <td>2018-01-26</td>\n",
       "      <td>09:56:06</td>\n",
       "      <td>slides/object_oriented_programming</td>\n",
       "      <td>1</td>\n",
       "      <td>8.0</td>\n",
       "      <td>97.105.19.61</td>\n",
       "      <td>8.0</td>\n",
       "      <td>Hampton</td>\n",
       "      <td>#hampton</td>\n",
       "      <td>2015-09-22</td>\n",
       "      <td>2016-02-06</td>\n",
       "      <td>2016-06-14 19:52:26</td>\n",
       "      <td>2016-06-14 19:52:26</td>\n",
       "      <td>NaN</td>\n",
       "      <td>1.0</td>\n",
       "    </tr>\n",
       "    <tr>\n",
       "      <th>4</th>\n",
       "      <td>2018-01-26</td>\n",
       "      <td>09:56:24</td>\n",
       "      <td>javascript-i/conditionals</td>\n",
       "      <td>2</td>\n",
       "      <td>22.0</td>\n",
       "      <td>97.105.19.61</td>\n",
       "      <td>22.0</td>\n",
       "      <td>Teddy</td>\n",
       "      <td>#teddy</td>\n",
       "      <td>2018-01-08</td>\n",
       "      <td>2018-05-17</td>\n",
       "      <td>2018-01-08 13:59:10</td>\n",
       "      <td>2018-01-08 13:59:10</td>\n",
       "      <td>NaN</td>\n",
       "      <td>2.0</td>\n",
       "    </tr>\n",
       "  </tbody>\n",
       "</table>\n",
       "</div>"
      ],
      "text/plain": [
       "         date      time                                 path  user_id  \\\n",
       "0  2018-01-26  09:55:03                                    /        1   \n",
       "1  2018-01-26  09:56:02                              java-ii        1   \n",
       "2  2018-01-26  09:56:05  java-ii/object-oriented-programming        1   \n",
       "3  2018-01-26  09:56:06   slides/object_oriented_programming        1   \n",
       "4  2018-01-26  09:56:24            javascript-i/conditionals        2   \n",
       "\n",
       "   cohort_id            ip    id     name     slack  start_date    end_date  \\\n",
       "0        8.0  97.105.19.61   8.0  Hampton  #hampton  2015-09-22  2016-02-06   \n",
       "1        8.0  97.105.19.61   8.0  Hampton  #hampton  2015-09-22  2016-02-06   \n",
       "2        8.0  97.105.19.61   8.0  Hampton  #hampton  2015-09-22  2016-02-06   \n",
       "3        8.0  97.105.19.61   8.0  Hampton  #hampton  2015-09-22  2016-02-06   \n",
       "4       22.0  97.105.19.61  22.0    Teddy    #teddy  2018-01-08  2018-05-17   \n",
       "\n",
       "            created_at           updated_at  deleted_at  program_id  \n",
       "0  2016-06-14 19:52:26  2016-06-14 19:52:26         NaN         1.0  \n",
       "1  2016-06-14 19:52:26  2016-06-14 19:52:26         NaN         1.0  \n",
       "2  2016-06-14 19:52:26  2016-06-14 19:52:26         NaN         1.0  \n",
       "3  2016-06-14 19:52:26  2016-06-14 19:52:26         NaN         1.0  \n",
       "4  2018-01-08 13:59:10  2018-01-08 13:59:10         NaN         2.0  "
      ]
     },
     "execution_count": 2,
     "metadata": {},
     "output_type": "execute_result"
    }
   ],
   "source": [
    "# define url \n",
    "url = mf.get_db_url('curriculum_logs')\n",
    "\n",
    "# define sql query\n",
    "sql = '''\n",
    "SELECT * \n",
    "FROM logs\n",
    "LEFT JOIN cohorts on logs.cohort_id = cohorts.id\n",
    "'''\n",
    "\n",
    "# set up if-conditional to see if a .csv is cached\n",
    "if os.path.isfile('curriculum_logs_unfiltered.csv'):\n",
    "    af = pd.read_csv('curriculum_logs_unfiltered.csv', index_col = 0)\n",
    "    \n",
    "else:\n",
    "\n",
    "    # use pandas's read_sql function to retrieve data from codeup db\n",
    "    af = pd.read_sql(sql, url)\n",
    "    \n",
    "    # cache data\n",
    "    af.to_csv('curriculum_logs_unfiltered.csv')\n",
    "\n",
    "# preview query results\n",
    "af.head()"
   ]
  },
  {
   "cell_type": "code",
   "execution_count": 3,
   "id": "073a36cc",
   "metadata": {},
   "outputs": [
    {
     "name": "stdout",
     "output_type": "stream",
     "text": [
      "<class 'pandas.core.frame.DataFrame'>\n",
      "Int64Index: 900223 entries, 0 to 900222\n",
      "Data columns (total 15 columns):\n",
      " #   Column      Non-Null Count   Dtype  \n",
      "---  ------      --------------   -----  \n",
      " 0   date        900223 non-null  object \n",
      " 1   time        900223 non-null  object \n",
      " 2   path        900222 non-null  object \n",
      " 3   user_id     900223 non-null  int64  \n",
      " 4   cohort_id   847330 non-null  float64\n",
      " 5   ip          900223 non-null  object \n",
      " 6   id          847330 non-null  float64\n",
      " 7   name        847330 non-null  object \n",
      " 8   slack       847330 non-null  object \n",
      " 9   start_date  847330 non-null  object \n",
      " 10  end_date    847330 non-null  object \n",
      " 11  created_at  847330 non-null  object \n",
      " 12  updated_at  847330 non-null  object \n",
      " 13  deleted_at  0 non-null       float64\n",
      " 14  program_id  847330 non-null  float64\n",
      "dtypes: float64(4), int64(1), object(10)\n",
      "memory usage: 109.9+ MB\n"
     ]
    }
   ],
   "source": [
    "# get df info\n",
    "af.info()"
   ]
  },
  {
   "cell_type": "code",
   "execution_count": 4,
   "id": "97b8b11b",
   "metadata": {},
   "outputs": [],
   "source": [
    "# set a list of columns I don need\n",
    "don_need = ['id', 'slack', 'deleted_at']\n",
    "\n",
    "# drop these columns\n",
    "af = af.drop(columns = don_need)"
   ]
  },
  {
   "cell_type": "code",
   "execution_count": 5,
   "id": "b370e8b1",
   "metadata": {
    "scrolled": true
   },
   "outputs": [
    {
     "name": "stdout",
     "output_type": "stream",
     "text": [
      "<class 'pandas.core.frame.DataFrame'>\n",
      "Int64Index: 900223 entries, 0 to 900222\n",
      "Data columns (total 12 columns):\n",
      " #   Column      Non-Null Count   Dtype  \n",
      "---  ------      --------------   -----  \n",
      " 0   date        900223 non-null  object \n",
      " 1   time        900223 non-null  object \n",
      " 2   path        900222 non-null  object \n",
      " 3   user_id     900223 non-null  int64  \n",
      " 4   cohort_id   847330 non-null  float64\n",
      " 5   ip          900223 non-null  object \n",
      " 6   name        847330 non-null  object \n",
      " 7   start_date  847330 non-null  object \n",
      " 8   end_date    847330 non-null  object \n",
      " 9   created_at  847330 non-null  object \n",
      " 10  updated_at  847330 non-null  object \n",
      " 11  program_id  847330 non-null  float64\n",
      "dtypes: float64(2), int64(1), object(9)\n",
      "memory usage: 89.3+ MB\n"
     ]
    }
   ],
   "source": [
    "# confirm changes with info\n",
    "af.info()"
   ]
  },
  {
   "cell_type": "code",
   "execution_count": 6,
   "id": "741e03b4",
   "metadata": {},
   "outputs": [
    {
     "data": {
      "text/html": [
       "<div>\n",
       "<style scoped>\n",
       "    .dataframe tbody tr th:only-of-type {\n",
       "        vertical-align: middle;\n",
       "    }\n",
       "\n",
       "    .dataframe tbody tr th {\n",
       "        vertical-align: top;\n",
       "    }\n",
       "\n",
       "    .dataframe thead th {\n",
       "        text-align: right;\n",
       "    }\n",
       "</style>\n",
       "<table border=\"1\" class=\"dataframe\">\n",
       "  <thead>\n",
       "    <tr style=\"text-align: right;\">\n",
       "      <th></th>\n",
       "      <th>date</th>\n",
       "      <th>time</th>\n",
       "      <th>path</th>\n",
       "      <th>user_id</th>\n",
       "      <th>cohort_id</th>\n",
       "      <th>ip</th>\n",
       "      <th>name</th>\n",
       "      <th>start_date</th>\n",
       "      <th>end_date</th>\n",
       "      <th>created_at</th>\n",
       "      <th>updated_at</th>\n",
       "      <th>program_id</th>\n",
       "    </tr>\n",
       "  </thead>\n",
       "  <tbody>\n",
       "    <tr>\n",
       "      <th>0</th>\n",
       "      <td>2018-01-26</td>\n",
       "      <td>09:55:03</td>\n",
       "      <td>/</td>\n",
       "      <td>1</td>\n",
       "      <td>8.0</td>\n",
       "      <td>97.105.19.61</td>\n",
       "      <td>Hampton</td>\n",
       "      <td>2015-09-22</td>\n",
       "      <td>2016-02-06</td>\n",
       "      <td>2016-06-14 19:52:26</td>\n",
       "      <td>2016-06-14 19:52:26</td>\n",
       "      <td>1.0</td>\n",
       "    </tr>\n",
       "    <tr>\n",
       "      <th>1</th>\n",
       "      <td>2018-01-26</td>\n",
       "      <td>09:56:02</td>\n",
       "      <td>java-ii</td>\n",
       "      <td>1</td>\n",
       "      <td>8.0</td>\n",
       "      <td>97.105.19.61</td>\n",
       "      <td>Hampton</td>\n",
       "      <td>2015-09-22</td>\n",
       "      <td>2016-02-06</td>\n",
       "      <td>2016-06-14 19:52:26</td>\n",
       "      <td>2016-06-14 19:52:26</td>\n",
       "      <td>1.0</td>\n",
       "    </tr>\n",
       "    <tr>\n",
       "      <th>2</th>\n",
       "      <td>2018-01-26</td>\n",
       "      <td>09:56:05</td>\n",
       "      <td>java-ii/object-oriented-programming</td>\n",
       "      <td>1</td>\n",
       "      <td>8.0</td>\n",
       "      <td>97.105.19.61</td>\n",
       "      <td>Hampton</td>\n",
       "      <td>2015-09-22</td>\n",
       "      <td>2016-02-06</td>\n",
       "      <td>2016-06-14 19:52:26</td>\n",
       "      <td>2016-06-14 19:52:26</td>\n",
       "      <td>1.0</td>\n",
       "    </tr>\n",
       "    <tr>\n",
       "      <th>3</th>\n",
       "      <td>2018-01-26</td>\n",
       "      <td>09:56:06</td>\n",
       "      <td>slides/object_oriented_programming</td>\n",
       "      <td>1</td>\n",
       "      <td>8.0</td>\n",
       "      <td>97.105.19.61</td>\n",
       "      <td>Hampton</td>\n",
       "      <td>2015-09-22</td>\n",
       "      <td>2016-02-06</td>\n",
       "      <td>2016-06-14 19:52:26</td>\n",
       "      <td>2016-06-14 19:52:26</td>\n",
       "      <td>1.0</td>\n",
       "    </tr>\n",
       "    <tr>\n",
       "      <th>4</th>\n",
       "      <td>2018-01-26</td>\n",
       "      <td>09:56:24</td>\n",
       "      <td>javascript-i/conditionals</td>\n",
       "      <td>2</td>\n",
       "      <td>22.0</td>\n",
       "      <td>97.105.19.61</td>\n",
       "      <td>Teddy</td>\n",
       "      <td>2018-01-08</td>\n",
       "      <td>2018-05-17</td>\n",
       "      <td>2018-01-08 13:59:10</td>\n",
       "      <td>2018-01-08 13:59:10</td>\n",
       "      <td>2.0</td>\n",
       "    </tr>\n",
       "  </tbody>\n",
       "</table>\n",
       "</div>"
      ],
      "text/plain": [
       "         date      time                                 path  user_id  \\\n",
       "0  2018-01-26  09:55:03                                    /        1   \n",
       "1  2018-01-26  09:56:02                              java-ii        1   \n",
       "2  2018-01-26  09:56:05  java-ii/object-oriented-programming        1   \n",
       "3  2018-01-26  09:56:06   slides/object_oriented_programming        1   \n",
       "4  2018-01-26  09:56:24            javascript-i/conditionals        2   \n",
       "\n",
       "   cohort_id            ip     name  start_date    end_date  \\\n",
       "0        8.0  97.105.19.61  Hampton  2015-09-22  2016-02-06   \n",
       "1        8.0  97.105.19.61  Hampton  2015-09-22  2016-02-06   \n",
       "2        8.0  97.105.19.61  Hampton  2015-09-22  2016-02-06   \n",
       "3        8.0  97.105.19.61  Hampton  2015-09-22  2016-02-06   \n",
       "4       22.0  97.105.19.61    Teddy  2018-01-08  2018-05-17   \n",
       "\n",
       "            created_at           updated_at  program_id  \n",
       "0  2016-06-14 19:52:26  2016-06-14 19:52:26         1.0  \n",
       "1  2016-06-14 19:52:26  2016-06-14 19:52:26         1.0  \n",
       "2  2016-06-14 19:52:26  2016-06-14 19:52:26         1.0  \n",
       "3  2016-06-14 19:52:26  2016-06-14 19:52:26         1.0  \n",
       "4  2018-01-08 13:59:10  2018-01-08 13:59:10         2.0  "
      ]
     },
     "execution_count": 6,
     "metadata": {},
     "output_type": "execute_result"
    }
   ],
   "source": [
    "# preview final base frame\n",
    "af.head()"
   ]
  },
  {
   "cell_type": "code",
   "execution_count": null,
   "id": "cf6b4865",
   "metadata": {},
   "outputs": [],
   "source": [
    "# cache data in a .csv\n",
    "af.to_csv('anomaly_frame.csv')"
   ]
  },
  {
   "cell_type": "code",
   "execution_count": null,
   "id": "c52b85da",
   "metadata": {},
   "outputs": [],
   "source": [
    "#concatenate date and time for swag\n",
    "af['date_time'] = af.date + ' ' + af.time\n",
    "\n",
    "# set date to datetime object using pandas\n",
    "af.date_time = pd.to_datetime(af.date_time, format = '%Y-%m-%d %H:%M:%S')\n",
    "\n",
    "# set index to datetime object created\n",
    "af = af.set_index('date_time')\n",
    "\n",
    "#drop originals\n",
    "af = af.drop(columns = ['date', 'time'])"
   ]
  },
  {
   "cell_type": "code",
   "execution_count": null,
   "id": "1bb54803",
   "metadata": {},
   "outputs": [],
   "source": [
    "# verify\n",
    "af.head(1)"
   ]
  },
  {
   "cell_type": "markdown",
   "id": "91042c0d",
   "metadata": {},
   "source": [
    "Actually, let's just set all of the dates/ times to datetime objects. Why not?"
   ]
  },
  {
   "cell_type": "code",
   "execution_count": null,
   "id": "cb116836",
   "metadata": {},
   "outputs": [],
   "source": [
    "# convert date/ time columns to datetime objects\n",
    "# af.time = pd.Timestamp(af.time) # actually scratch that for now that is hard why dont i just concatenate the date and the time and then format it hmmm\n",
    "af.start_date = pd.to_datetime(af.start_date)\n",
    "af.end_date = pd.to_datetime(af.end_date)\n",
    "af.created_at = pd.to_datetime(af.created_at)\n",
    "af.updated_at = pd.to_datetime(af.updated_at)"
   ]
  },
  {
   "cell_type": "code",
   "execution_count": null,
   "id": "ba88fea6",
   "metadata": {},
   "outputs": [],
   "source": [
    "# verify\n",
    "af.info()"
   ]
  },
  {
   "cell_type": "code",
   "execution_count": null,
   "id": "db766601",
   "metadata": {},
   "outputs": [],
   "source": [
    "# verify\n",
    "af.head()"
   ]
  },
  {
   "cell_type": "code",
   "execution_count": null,
   "id": "a120d763",
   "metadata": {},
   "outputs": [],
   "source": [
    "# cache this frame too, but be sure to re-convert all dates/ times columns to datetimes after loading through\n",
    "# pandas read_csv function\n",
    "af.to_csv('reminder_convert_datetimes.csv')"
   ]
  },
  {
   "cell_type": "markdown",
   "id": "66f7365e",
   "metadata": {},
   "source": [
    "### Exercise I \n",
    "Label students by the program they are in."
   ]
  },
  {
   "cell_type": "code",
   "execution_count": null,
   "id": "468494e8",
   "metadata": {},
   "outputs": [],
   "source": [
    "# view different programs\n",
    "af.program_id.value_counts()"
   ]
  },
  {
   "cell_type": "code",
   "execution_count": null,
   "id": "98c12966",
   "metadata": {},
   "outputs": [],
   "source": [
    "# create columns that label students by the program they are in\n",
    "af['front_end'] = af.program_id == 4\n",
    "af['data_science'] = af.program_id == 3\n",
    "af['java'] = af.program_id == 2\n",
    "af['php'] = af.program_id == 1"
   ]
  },
  {
   "cell_type": "code",
   "execution_count": null,
   "id": "44166cad",
   "metadata": {},
   "outputs": [],
   "source": [
    "# mira\n",
    "af.head()"
   ]
  },
  {
   "cell_type": "code",
   "execution_count": null,
   "id": "3b2fbcf0",
   "metadata": {},
   "outputs": [],
   "source": [
    "# create column called program that declares what program the student is in\n",
    "af['program'] = af.program_id.map({1.0: 'Full-Stack PHP',\n",
    "                                   2.0: 'Full-Stack Java',\n",
    "                                   3.0: 'Data Science',\n",
    "                                   4.0: 'Front-End'\n",
    "                                  }\n",
    "                                 )"
   ]
  },
  {
   "cell_type": "code",
   "execution_count": null,
   "id": "19719c70",
   "metadata": {},
   "outputs": [],
   "source": [
    "# set a list of columns to map\n",
    "programs = ['front_end', 'data_science', 'java', 'php']\n",
    "\n",
    "# commence loop through list to map one-hot encoding for practical purposes like the .sum() function\n",
    "for program in programs:\n",
    "    af[program] = af[program].map({False: 0,\n",
    "                                   True: 1\n",
    "                                  }\n",
    "                                 )"
   ]
  },
  {
   "cell_type": "code",
   "execution_count": null,
   "id": "21a7f4de",
   "metadata": {},
   "outputs": [],
   "source": [
    "# alright what's going on here\n",
    "af.head()"
   ]
  },
  {
   "cell_type": "markdown",
   "id": "094866cc",
   "metadata": {},
   "source": [
    "I did it! Too much work, mason. Too much work for question 1. All you needed was "
   ]
  },
  {
   "cell_type": "markdown",
   "id": "eac97507",
   "metadata": {},
   "source": [
    "### Exercise II \n",
    "Is it possible to identify the user_id of a staff member?"
   ]
  },
  {
   "cell_type": "markdown",
   "id": "d269e238",
   "metadata": {},
   "source": [
    "Yes. Yes it is."
   ]
  },
  {
   "cell_type": "code",
   "execution_count": null,
   "id": "f96b9017",
   "metadata": {},
   "outputs": [],
   "source": []
  },
  {
   "cell_type": "code",
   "execution_count": null,
   "id": "7e28273a",
   "metadata": {},
   "outputs": [],
   "source": []
  },
  {
   "cell_type": "markdown",
   "id": "9c15ae65",
   "metadata": {},
   "source": [
    "### Exercise III \n",
    "Identify students who are accessing our curriculum pages beyond the end of their time at Codeup."
   ]
  },
  {
   "cell_type": "code",
   "execution_count": null,
   "id": "5f7ea62b",
   "metadata": {},
   "outputs": [],
   "source": []
  },
  {
   "cell_type": "code",
   "execution_count": null,
   "id": "e83ee365",
   "metadata": {},
   "outputs": [],
   "source": []
  },
  {
   "cell_type": "code",
   "execution_count": null,
   "id": "db2474a4",
   "metadata": {},
   "outputs": [],
   "source": []
  },
  {
   "cell_type": "markdown",
   "id": "d6c261d8",
   "metadata": {},
   "source": [
    "### Exercise IV \n",
    "Identify students who present anomalous activity using the Bollinger Band method, but reduce K to 2."
   ]
  },
  {
   "cell_type": "code",
   "execution_count": null,
   "id": "4dd5f89b",
   "metadata": {},
   "outputs": [],
   "source": []
  },
  {
   "cell_type": "code",
   "execution_count": null,
   "id": "b3f348bd",
   "metadata": {},
   "outputs": [],
   "source": []
  },
  {
   "cell_type": "code",
   "execution_count": null,
   "id": "871c869a",
   "metadata": {},
   "outputs": [],
   "source": []
  },
  {
   "cell_type": "markdown",
   "id": "74729579",
   "metadata": {},
   "source": [
    "### Exercise V\n",
    "Plot the access activity of these students."
   ]
  },
  {
   "cell_type": "code",
   "execution_count": null,
   "id": "59ed1d01",
   "metadata": {},
   "outputs": [],
   "source": []
  },
  {
   "cell_type": "code",
   "execution_count": null,
   "id": "bc8db2c1",
   "metadata": {},
   "outputs": [],
   "source": []
  },
  {
   "cell_type": "code",
   "execution_count": null,
   "id": "72a91b39",
   "metadata": {},
   "outputs": [],
   "source": []
  },
  {
   "cell_type": "markdown",
   "id": "36dff209",
   "metadata": {},
   "source": [
    "### BONUS: Identify users who are viewing both the web dev and data science curriculum"
   ]
  },
  {
   "cell_type": "code",
   "execution_count": null,
   "id": "5aa43b54",
   "metadata": {},
   "outputs": [],
   "source": []
  }
 ],
 "metadata": {
  "kernelspec": {
   "display_name": "Python 3",
   "language": "python",
   "name": "python3"
  },
  "language_info": {
   "codemirror_mode": {
    "name": "ipython",
    "version": 3
   },
   "file_extension": ".py",
   "mimetype": "text/x-python",
   "name": "python",
   "nbconvert_exporter": "python",
   "pygments_lexer": "ipython3",
   "version": "3.8.8"
  }
 },
 "nbformat": 4,
 "nbformat_minor": 5
}
